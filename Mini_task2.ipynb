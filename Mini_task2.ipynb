{
  "nbformat": 4,
  "nbformat_minor": 0,
  "metadata": {
    "colab": {
      "provenance": [],
      "name": "Mini_task2.ipynb",
      "authorship_tag": "ABX9TyODnPijasVPC8G9EHwuRCsM",
      "include_colab_link": true
    },
    "kernelspec": {
      "name": "python3",
      "display_name": "Python 3"
    },
    "language_info": {
      "name": "python"
    }
  },
  "cells": [
    {
      "cell_type": "markdown",
      "metadata": {
        "id": "view-in-github",
        "colab_type": "text"
      },
      "source": [
        "<a href=\"https://colab.research.google.com/github/dobrotvorn/DataCon23/blob/main/Mini_task2.ipynb\" target=\"_parent\"><img src=\"https://colab.research.google.com/assets/colab-badge.svg\" alt=\"Open In Colab\"/></a>"
      ]
    },
    {
      "cell_type": "markdown",
      "source": [
        "# **Описание задания**\n",
        "Часть 1: Необходимо заполнить датасет. Следует вписать физико-химические характеристики атома металла, используя библиотеку pymatgen.\n",
        "Часть 2: Даны SDF-файлы 3D структур молекул и TXT-файл с описательными характеристиками. Необходимо создать функцию, которая принимает на вход SDF-файл и массив названий дескрипторов (характеристик), и  возвращает массив значений указанных дескрипторов. Дано - 15 файлов SDF, собрать из них датасет содержащий их SMILES и указанные дескрипторы (из файла txt). Для выполнения задания требуется библиотека rdkit.\n",
        "\n",
        "Описание:\n",
        "\n",
        "material type, nanoparticle - химическая формула\n",
        "\n",
        "elements - некислородный элемент входящий в состав (причина - большинство материалов оксиды и металлы). В случае неоксидного материала (MxOy, где М-металл, О-кислород, х и у - индексы) берём характеристики первого элемента.\n",
        "\n",
        "average electronegativity - средняя электроотрицательность по Полингу\n",
        "\n",
        "ionic radius - ионный радиус elements (исходя из степени окисления; если смесь степеней - среднее значение)\n",
        "\n",
        "molecular weight - молекулярная масса элемента\n",
        "\n"
      ],
      "metadata": {
        "id": "jBltQbL5T7U-"
      }
    },
    {
      "cell_type": "code",
      "execution_count": 1,
      "metadata": {
        "id": "6LqQcIbSTWWp",
        "colab": {
          "base_uri": "https://localhost:8080/"
        },
        "outputId": "d525eb85-bb19-4c7c-cd8b-cbde645853dc"
      },
      "outputs": [
        {
          "output_type": "stream",
          "name": "stdout",
          "text": [
            "Hello world!\n"
          ]
        }
      ],
      "source": [
        "print('Hello world!')"
      ]
    },
    {
      "cell_type": "code",
      "source": [],
      "metadata": {
        "id": "-V9B0Q21Wgnl"
      },
      "execution_count": null,
      "outputs": []
    }
  ]
}