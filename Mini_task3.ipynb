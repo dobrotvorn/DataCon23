{
  "nbformat": 4,
  "nbformat_minor": 0,
  "metadata": {
    "colab": {
      "provenance": [],
      "include_colab_link": true
    },
    "kernelspec": {
      "name": "python3",
      "display_name": "Python 3"
    },
    "language_info": {
      "name": "python"
    }
  },
  "cells": [
    {
      "cell_type": "markdown",
      "metadata": {
        "id": "view-in-github",
        "colab_type": "text"
      },
      "source": [
        "<a href=\"https://colab.research.google.com/github/dobrotvorn/DataCon23/blob/main/Mini_task3.ipynb\" target=\"_parent\"><img src=\"https://colab.research.google.com/assets/colab-badge.svg\" alt=\"Open In Colab\"/></a>"
      ]
    },
    {
      "cell_type": "markdown",
      "source": [
        "## **Описание задания**\n",
        "# Часть 1. Работа с данными\n",
        "\n",
        "1) Просмотреть датасет на наличие выбросов и неверных данных\n",
        "\n",
        "2) Разобраться в графиках из бейзлайна\n",
        "\n",
        "3) Построить свои графики и выдвинуть по ним гипотезы\n",
        "\n",
        "4) Отталкиваясь от этого, добавить некоторое количество новых дескрипторов при помощи rdkit (главное разобраться в коде, который это делает)\n",
        "\n",
        "# Часть 2. Построение моделей\n",
        "\n",
        "1) Построить свои модели на основе базовых регрессий из scikit-learn (минимум: обойти бейзлайн и попробовать хотя бы 3-4 модели\n",
        "отличные от него)\n",
        "\n",
        "2) Попробовать поработать с изменением параметров моделей и изменить соотношение тестовой/тренировочной выборки\n",
        "\n",
        "3) Вывести графики feature importance полученных моделей\n",
        "\n",
        "# Часть 3. Tensorflow\n",
        "\n",
        "1) Провести эксперименты с архитектурами: количество слоев; функции активации; добавление дроп-аута/нормализации\n",
        "\n"
      ],
      "metadata": {
        "id": "olh3PldFeEga"
      }
    },
    {
      "cell_type": "markdown",
      "source": [
        "## **Загрузка данных и библиотек**\n",
        "# Импортируем и скачиваем библиотеки"
      ],
      "metadata": {
        "id": "R10HC0vEfnSi"
      }
    },
    {
      "cell_type": "code",
      "execution_count": null,
      "metadata": {
        "id": "cTYlyeT4UCCN"
      },
      "outputs": [],
      "source": [
        "!pip install pymatgen\n",
        "!pip install rdkit\n",
        "!pip install gdown -- quiet\n",
        "!pip install fancyimpute --quiet\n",
        "import pandas as pd\n",
        "import numpy as np\n",
        "import gdown\n",
        "import matplotlib.pyplot as plt\n",
        "import seaborn as sns\n",
        "import sys\n",
        "import plotly\n",
        "import scipy.stats as stats\n",
        "from sklearn.experimental import enable_iterative_imputer\n",
        "from sklearn.preprocessing import OneHotEncoder\n",
        "from sklearn.impute import IterativeImputer\n",
        "from sklearn.pipeline import Pipeline\n",
        "from sklearn.preprocessing import FunctionTransformer\n",
        "from sklearn.impute import KNNImputer\n",
        "from IPython.display import display, HTML\n",
        "from sklearn.impute import SimpleImputer\n",
        "from sklearn.compose import ColumnTransformer\n",
        "from sklearn.discriminant_analysis import StandardScaler\n",
        "from sklearn.preprocessing import RobustScaler\n",
        "from sklearn.pipeline import Pipeline\n",
        "from sklearn.compose import ColumnTransformer\n",
        "from sklearn.impute import KNNImputer\n",
        "from sklearn.preprocessing import LabelEncoder\n",
        "from fancyimpute import KNN\n",
        "import pymatgen.core as mg\n",
        "from rdkit import Chem\n",
        "from rdkit.Chem import Draw\n",
        "from rdkit.Chem import Descriptors\n",
        "from rdkit.Chem import rdMolDescriptors\n",
        "from rdkit.Chem.Draw import SimilarityMaps\n",
        "from zipfile import ZipFile"
      ]
    },
    {
      "cell_type": "code",
      "source": [
        "# тут захардкодим статичные переменные\n",
        "global ordinal_encoder\n",
        "global text_columns\n",
        "global path2firstDb\n",
        "global numerics\n",
        "numerics = ['int16', 'int32', 'int64', 'float16', 'float32', 'float64']\n",
        "path2firstDb = '/content/firstDb.csv' if 'google.colab' in sys.modules else 'firstDb.csv'"
      ],
      "metadata": {
        "id": "kcEobDECUlot"
      },
      "execution_count": null,
      "outputs": []
    },
    {
      "cell_type": "markdown",
      "source": [
        "# Скачиваем данные"
      ],
      "metadata": {
        "id": "vPj9mMHWf2-w"
      }
    },
    {
      "cell_type": "code",
      "source": [
        "url1 = 'https://docs.google.com/spreadsheets/d/e/2PACX-1vR7whTOZIO16kGSfmtP3zHyXoRog0r6LVk_UZjpIhHwiRocAL5SIiqUyoBfpFXqe1fnyDsIOhTc7cjM/pub?gid=139006229&single=true&output=csv'\n",
        "output1 = 'firstDb.csv'\n",
        "gdown.download(url1, output1, quiet=True)"
      ],
      "metadata": {
        "id": "QAFnBfA1Ur5m"
      },
      "execution_count": null,
      "outputs": []
    },
    {
      "cell_type": "markdown",
      "source": [
        "## **Часть 1. Работа с ДС**"
      ],
      "metadata": {
        "id": "sdF5i0wef8bt"
      }
    },
    {
      "cell_type": "markdown",
      "source": [
        "**Описание параметров:**\n",
        "\n",
        "SMILES - Представление молекулы в текстовом формате smiles.\n",
        "\n",
        "Solubility - Растворимость вещества в воде.\n",
        "\n",
        "MolLogP - десятичный логарифм коэффициента разделения.\n",
        "\n",
        "MolMR -  Относительный молекулярный вес соединения.\n",
        "\n",
        "HeavyAtomCount - Количество атомов не-водорода в молекуле.\n",
        "\n",
        "NumRotatableBonds - Число поворотных связей в молекуле.\n",
        "\n",
        "NumValenceElectrons - Количество  валентных электронов в соединении.\n",
        "\n",
        "NumAromaticRings - Количество ароматических колец в молекуле.\n",
        "\n",
        "TPSA - Топологическая площадь поверхности полярных атомов в соединении.\n",
        "\n",
        "LabuteASA - площадь поверхности молекулы, доступная для взаимодействия с молекулами растворителя.\n",
        "\n",
        "BertzCT - Индекс, предназначенный для количественной оценки “сложности” молекул.\n",
        "\n",
        "MolWt - Молекулярный вес соединения.\n"
      ],
      "metadata": {
        "id": "liExXx0wgU76"
      }
    },
    {
      "cell_type": "code",
      "source": [
        "fdb = pd.read_csv(path2firstDb)\n",
        "fdb.head(7)\n",
        "fdb.info()"
      ],
      "metadata": {
        "id": "KudYiaZ0X0zj"
      },
      "execution_count": null,
      "outputs": []
    },
    {
      "cell_type": "markdown",
      "source": [
        "# Исключение выбросов"
      ],
      "metadata": {
        "id": "TITMpdFzH98R"
      }
    },
    {
      "cell_type": "code",
      "source": [
        "cols = fdb.columns\n",
        "# желтый - пропущенные данные, синий - не пропущенные\n",
        "colours = ['#000099', '#ffff00']\n",
        "sns.heatmap(fdb[cols].isnull(), cmap=sns.color_palette(colours))\n",
        "# процентный список пропущенных данных\n",
        "for col in fdb.columns:\n",
        "    pct_missing = np.mean(fdb[col].isnull())\n",
        "    print('{} - {}%'.format(col, round(pct_missing*100)))"
      ],
      "metadata": {
        "id": "QdSj7JV8Qvy4"
      },
      "execution_count": null,
      "outputs": []
    },
    {
      "cell_type": "code",
      "source": [
        "# Проверка на дубликаты по SMILES\n",
        "df_dedupped = fdb.drop_duplicates(subset='SMILES')\n",
        "print(fdb.shape)\n",
        "print(df_dedupped.shape)\n",
        "# Дубликаты отсутствуют"
      ],
      "metadata": {
        "id": "Z7zMEiqeRJaw"
      },
      "execution_count": null,
      "outputs": []
    },
    {
      "cell_type": "code",
      "source": [
        "# Меняет значения выше четырёх медианных абсолютных отклонений (Фильтр Хэмпеля)\n",
        "def hampel(vals_orig):\n",
        "    vals = vals_orig.copy()\n",
        "    difference = np.abs(vals.median()-vals)\n",
        "    median_abs_deviation = difference.median()\n",
        "    threshold = 4 * median_abs_deviation\n",
        "    outlier_idx = difference > threshold\n",
        "    vals[outlier_idx] = np.nan\n",
        "    return(vals)"
      ],
      "metadata": {
        "id": "4iZ0IanKIBr6"
      },
      "execution_count": null,
      "outputs": []
    },
    {
      "cell_type": "code",
      "source": [
        "# def quart(vals_orig):\n",
        "#   vals = vals_orig.copy()\n",
        "#   Q1 = fdb.quantile(q=.25)\n",
        "#   Q3 = fdb.quantile(q=.75)\n",
        "#   quartiles = vals[col].quantile([0.25, 0.75])\n",
        "#   IQR = quartiles[0.75] - quartiles[0.25]\n",
        "#   data_clean = vals[~((vals < (Q1-1.5*IQR)) | (vals > (Q3+1.5*IQR))).any(axis=1)]\n",
        "#   return(data_clean)\n",
        "# fdb = fdb.loc[:, 'Solubility':]\n",
        "# fdb = quart(fdb)\n",
        "# fdb.info()"
      ],
      "metadata": {
        "id": "IW7RBnWPIswT"
      },
      "execution_count": null,
      "outputs": []
    },
    {
      "cell_type": "code",
      "source": [
        "fdb = hampel(fdb)\n",
        "fdb.info()"
      ],
      "metadata": {
        "id": "qh2V2mlKIYKp"
      },
      "execution_count": null,
      "outputs": []
    },
    {
      "cell_type": "code",
      "source": [
        "sns.boxplot(data=fdb, x='Solubility')"
      ],
      "metadata": {
        "id": "IO0O5ZFZd2-4"
      },
      "execution_count": null,
      "outputs": []
    },
    {
      "cell_type": "code",
      "source": [
        "fdb = fdb.dropna(subset=['Solubility'])\n",
        "fdb=fdb.reset_index(drop=True)"
      ],
      "metadata": {
        "id": "We0HZmAfkGVD"
      },
      "execution_count": null,
      "outputs": []
    },
    {
      "cell_type": "code",
      "source": [
        "fdb"
      ],
      "metadata": {
        "id": "FDUm2mJIk_1y"
      },
      "execution_count": null,
      "outputs": []
    },
    {
      "cell_type": "code",
      "source": [
        "def get_molmr(smiles):\n",
        "  new_mol=Chem.MolFromSmiles(smiles)\n",
        "  a = Chem.Crippen.MolLogP(new_mol)\n",
        "  return a\n",
        "\n",
        "fdb['MolLogP'] = fdb['SMILES'].apply(get_molmr)\n",
        "fdb.head()"
      ],
      "metadata": {
        "id": "I5_pUwanq_sc"
      },
      "execution_count": null,
      "outputs": []
    },
    {
      "cell_type": "code",
      "source": [
        "def get_molmr(smiles):\n",
        "  new_mol=Chem.MolFromSmiles(smiles)\n",
        "  a = Chem.Crippen.MolMR(new_mol)\n",
        "  return a\n",
        "\n",
        "fdb['MolMR'] = fdb['SMILES'].apply(get_molmr)\n",
        "fdb.head()"
      ],
      "metadata": {
        "id": "jU7gcQlrjJ1b"
      },
      "execution_count": null,
      "outputs": []
    }
  ]
}