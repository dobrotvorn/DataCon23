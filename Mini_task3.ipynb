{
  "nbformat": 4,
  "nbformat_minor": 0,
  "metadata": {
    "colab": {
      "provenance": [],
      "include_colab_link": true
    },
    "kernelspec": {
      "name": "python3",
      "display_name": "Python 3"
    },
    "language_info": {
      "name": "python"
    }
  },
  "cells": [
    {
      "cell_type": "markdown",
      "metadata": {
        "id": "view-in-github",
        "colab_type": "text"
      },
      "source": [
        "<a href=\"https://colab.research.google.com/github/dobrotvorn/DataCon23/blob/main/Mini_task3.ipynb\" target=\"_parent\"><img src=\"https://colab.research.google.com/assets/colab-badge.svg\" alt=\"Open In Colab\"/></a>"
      ]
    },
    {
      "cell_type": "markdown",
      "source": [
        "## **Описание задания**\n",
        "# Часть 1. Работа с данными\n",
        "\n",
        "1) Просмотреть датасет на наличие выбросов и неверных данных\n",
        "\n",
        "2) Разобраться в графиках из бейзлайна\n",
        "\n",
        "3) Построить свои графики и выдвинуть по ним гипотезы\n",
        "\n",
        "4) Отталкиваясь от этого, добавить некоторое количество новых дескрипторов при помощи rdkit (главное разобраться в коде, который это делает)\n",
        "\n",
        "# Часть 2. Построение моделей\n",
        "\n",
        "1) Построить свои модели на основе базовых регрессий из scikit-learn (минимум: обойти бейзлайн и попробовать хотя бы 3-4 модели\n",
        "отличные от него)\n",
        "\n",
        "2) Попробовать поработать с изменением параметров моделей и изменить соотношение тестовой/тренировочной выборки\n",
        "\n",
        "3) Вывести графики feature importance полученных моделей\n",
        "\n",
        "# Часть 3. Tensorflow\n",
        "\n",
        "1) Провести эксперименты с архитектурами: количество слоев; функции активации; добавление дроп-аута/нормализации\n",
        "\n"
      ],
      "metadata": {
        "id": "olh3PldFeEga"
      }
    },
    {
      "cell_type": "markdown",
      "source": [
        "## **Загрузка данных и библиотек**\n",
        "# Импортируем и скачиваем библиотеки"
      ],
      "metadata": {
        "id": "R10HC0vEfnSi"
      }
    },
    {
      "cell_type": "code",
      "execution_count": 234,
      "metadata": {
        "colab": {
          "base_uri": "https://localhost:8080/"
        },
        "id": "cTYlyeT4UCCN",
        "outputId": "95854943-6103-4662-d424-058e86bee8c0"
      },
      "outputs": [
        {
          "output_type": "stream",
          "name": "stdout",
          "text": [
            "Requirement already satisfied: gdown in /usr/local/lib/python3.10/dist-packages (4.6.6)\n",
            "\u001b[31mERROR: Could not find a version that satisfies the requirement quiet (from versions: none)\u001b[0m\u001b[31m\n",
            "\u001b[0m\u001b[31mERROR: No matching distribution found for quiet\u001b[0m\u001b[31m\n",
            "\u001b[0m"
          ]
        }
      ],
      "source": [
        "!pip install gdown -- quiet\n",
        "!pip install fancyimpute --quiet\n",
        "import pandas as pd\n",
        "import numpy as np\n",
        "import gdown\n",
        "import matplotlib.pyplot as plt\n",
        "import seaborn as sns\n",
        "import sys\n",
        "import plotly\n",
        "import scipy.stats as stats\n",
        "from sklearn.experimental import enable_iterative_imputer\n",
        "from sklearn.preprocessing import OneHotEncoder\n",
        "from sklearn.impute import IterativeImputer\n",
        "from sklearn.pipeline import Pipeline\n",
        "from sklearn.preprocessing import FunctionTransformer\n",
        "from sklearn.impute import KNNImputer\n",
        "from IPython.display import display, HTML\n",
        "from sklearn.impute import SimpleImputer\n",
        "from sklearn.compose import ColumnTransformer\n",
        "from sklearn.discriminant_analysis import StandardScaler\n",
        "from sklearn.preprocessing import RobustScaler\n",
        "from sklearn.pipeline import Pipeline\n",
        "from sklearn.compose import ColumnTransformer\n",
        "from sklearn.impute import KNNImputer\n",
        "from sklearn.preprocessing import LabelEncoder\n",
        "from fancyimpute import KNN"
      ]
    },
    {
      "cell_type": "code",
      "source": [
        "# тут захардкодим статичные переменные\n",
        "global ordinal_encoder\n",
        "global text_columns\n",
        "global path2firstDb\n",
        "global numerics\n",
        "numerics = ['int16', 'int32', 'int64', 'float16', 'float32', 'float64']\n",
        "path2firstDb = '/content/firstDb.csv' if 'google.colab' in sys.modules else 'firstDb.csv'"
      ],
      "metadata": {
        "id": "kcEobDECUlot"
      },
      "execution_count": 235,
      "outputs": []
    },
    {
      "cell_type": "markdown",
      "source": [
        "# Скачиваем данные"
      ],
      "metadata": {
        "id": "vPj9mMHWf2-w"
      }
    },
    {
      "cell_type": "code",
      "source": [
        "url1 = 'https://docs.google.com/spreadsheets/d/e/2PACX-1vR7whTOZIO16kGSfmtP3zHyXoRog0r6LVk_UZjpIhHwiRocAL5SIiqUyoBfpFXqe1fnyDsIOhTc7cjM/pub?gid=139006229&single=true&output=csv'\n",
        "output1 = 'firstDb.csv'\n",
        "gdown.download(url1, output1, quiet=True)"
      ],
      "metadata": {
        "colab": {
          "base_uri": "https://localhost:8080/",
          "height": 93
        },
        "id": "QAFnBfA1Ur5m",
        "outputId": "f0763863-f5d1-4535-c92b-7105ca46f235"
      },
      "execution_count": 236,
      "outputs": [
        {
          "output_type": "stream",
          "name": "stderr",
          "text": [
            "/usr/local/lib/python3.10/dist-packages/gdown/parse_url.py:35: UserWarning: You specified a Google Drive link that is not the correct link to download a file. You might want to try `--fuzzy` option or the following url: https://drive.google.com/uc?id=None\n",
            "  warnings.warn(\n"
          ]
        },
        {
          "output_type": "execute_result",
          "data": {
            "text/plain": [
              "'firstDb.csv'"
            ],
            "application/vnd.google.colaboratory.intrinsic+json": {
              "type": "string"
            }
          },
          "metadata": {},
          "execution_count": 236
        }
      ]
    },
    {
      "cell_type": "markdown",
      "source": [
        "## **Часть 1. Работа с ДС**"
      ],
      "metadata": {
        "id": "sdF5i0wef8bt"
      }
    },
    {
      "cell_type": "markdown",
      "source": [
        "**Описание параметров:**\n",
        "\n",
        "SMILES - Представление молекулы в текстовом формате smiles.\n",
        "\n",
        "Solubility - Растворимость вещества в воде.\n",
        "\n",
        "MolLogP - десятичный логарифм коэффициента разделения.\n",
        "\n",
        "MolMR -  Относительный молекулярный вес соединения.\n",
        "\n",
        "HeavyAtomCount - Количество атомов не-водорода в молекуле.\n",
        "\n",
        "NumRotatableBonds - Число поворотных связей в молекуле.\n",
        "\n",
        "NumValenceElectrons - Количество  валентных электронов в соединении.\n",
        "\n",
        "NumAromaticRings - Количество ароматических колец в молекуле.\n",
        "\n",
        "TPSA - Топологическая площадь поверхности полярных атомов в соединении.\n",
        "\n",
        "LabuteASA - площадь поверхности молекулы, доступная для взаимодействия с молекулами растворителя.\n",
        "\n",
        "BertzCT - Индекс, предназначенный для количественной оценки “сложности” молекул.\n",
        "\n",
        "MolWt - Молекулярный вес соединения.\n"
      ],
      "metadata": {
        "id": "liExXx0wgU76"
      }
    },
    {
      "cell_type": "code",
      "source": [
        "fdb = pd.read_csv(path2firstDb)\n",
        "fdb.head(7)\n",
        "fdb.info()"
      ],
      "metadata": {
        "colab": {
          "base_uri": "https://localhost:8080/"
        },
        "id": "KudYiaZ0X0zj",
        "outputId": "577c3f2e-516c-48aa-cdba-fafbdda63ab5"
      },
      "execution_count": 237,
      "outputs": [
        {
          "output_type": "stream",
          "name": "stdout",
          "text": [
            "<class 'pandas.core.frame.DataFrame'>\n",
            "RangeIndex: 9982 entries, 0 to 9981\n",
            "Data columns (total 11 columns):\n",
            " #   Column               Non-Null Count  Dtype  \n",
            "---  ------               --------------  -----  \n",
            " 0   SMILES               9982 non-null   object \n",
            " 1   Solubility           9897 non-null   float64\n",
            " 2   MolLogP              9924 non-null   float64\n",
            " 3   MolMR                9915 non-null   float64\n",
            " 4   HeavyAtomCount       9959 non-null   float64\n",
            " 5   NumRotatableBonds    9974 non-null   float64\n",
            " 6   NumValenceElectrons  9917 non-null   float64\n",
            " 7   NumAromaticRings     9936 non-null   float64\n",
            " 8   TPSA                 9939 non-null   float64\n",
            " 9   LabuteASA            9917 non-null   float64\n",
            " 10  BertzCT              9945 non-null   float64\n",
            "dtypes: float64(10), object(1)\n",
            "memory usage: 858.0+ KB\n"
          ]
        }
      ]
    },
    {
      "cell_type": "markdown",
      "source": [
        "# Исключение выбросов"
      ],
      "metadata": {
        "id": "TITMpdFzH98R"
      }
    },
    {
      "cell_type": "code",
      "source": [
        "cols = fdb.columns\n",
        "# желтый - пропущенные данные, синий - не пропущенные\n",
        "colours = ['#000099', '#ffff00']\n",
        "sns.heatmap(fdb[cols].isnull(), cmap=sns.color_palette(colours))\n",
        "# процентный список пропущенных данных\n",
        "for col in fdb.columns:\n",
        "    pct_missing = np.mean(fdb[col].isnull())\n",
        "    print('{} - {}%'.format(col, round(pct_missing*100)))"
      ],
      "metadata": {
        "colab": {
          "base_uri": "https://localhost:8080/",
          "height": 777
        },
        "id": "QdSj7JV8Qvy4",
        "outputId": "9e978282-4061-4e06-f2e0-cef8d152544e"
      },
      "execution_count": 238,
      "outputs": [
        {
          "output_type": "stream",
          "name": "stdout",
          "text": [
            "SMILES - 0%\n",
            "Solubility - 1%\n",
            "MolLogP - 1%\n",
            "MolMR - 1%\n",
            "HeavyAtomCount - 0%\n",
            "NumRotatableBonds - 0%\n",
            "NumValenceElectrons - 1%\n",
            "NumAromaticRings - 0%\n",
            "TPSA - 0%\n",
            "LabuteASA - 1%\n",
            "BertzCT - 0%\n"
          ]
        },
        {
          "output_type": "display_data",
          "data": {
            "text/plain": [
              "<Figure size 640x480 with 2 Axes>"
            ],
            "image/png": "[encoded data removed]"
          },
          "metadata": {}
        }
      ]
    },
    {
      "cell_type": "code",
      "source": [
        "# Проверка на дубликаты по SMILES\n",
        "df_dedupped = fdb.drop_duplicates(subset='SMILES')\n",
        "print(fdb.shape)\n",
        "print(df_dedupped.shape)\n",
        "# Дубликаты отсутствуют"
      ],
      "metadata": {
        "colab": {
          "base_uri": "https://localhost:8080/"
        },
        "id": "Z7zMEiqeRJaw",
        "outputId": "8a6bcede-dc71-4ad5-8955-1e1a5109e9c0"
      },
      "execution_count": 239,
      "outputs": [
        {
          "output_type": "stream",
          "name": "stdout",
          "text": [
            "(9982, 11)\n",
            "(9963, 10)\n",
            "<class 'pandas.core.frame.DataFrame'>\n",
            "Int64Index: 9963 entries, 0 to 9981\n",
            "Data columns (total 10 columns):\n",
            " #   Column               Non-Null Count  Dtype  \n",
            "---  ------               --------------  -----  \n",
            " 0   Solubility           9878 non-null   float64\n",
            " 1   MolLogP              9905 non-null   float64\n",
            " 2   MolMR                9896 non-null   float64\n",
            " 3   HeavyAtomCount       9940 non-null   float64\n",
            " 4   NumRotatableBonds    9955 non-null   float64\n",
            " 5   NumValenceElectrons  9898 non-null   float64\n",
            " 6   NumAromaticRings     9917 non-null   float64\n",
            " 7   TPSA                 9920 non-null   float64\n",
            " 8   LabuteASA            9898 non-null   float64\n",
            " 9   BertzCT              9926 non-null   float64\n",
            "dtypes: float64(10)\n",
            "memory usage: 856.2 KB\n"
          ]
        }
      ]
    },
    {
      "cell_type": "code",
      "source": [
        "# Меняет значения выше четырёх медианных абсолютных отклонений (Фильтр Хэмпеля)\n",
        "def hampel(vals_orig):\n",
        "    vals = vals_orig.copy()\n",
        "    difference = np.abs(vals.median()-vals)\n",
        "    median_abs_deviation = difference.median()\n",
        "    threshold = 4 * median_abs_deviation\n",
        "    outlier_idx = difference > threshold\n",
        "    vals[outlier_idx] = np.nan\n",
        "    return(vals)"
      ],
      "metadata": {
        "id": "4iZ0IanKIBr6"
      },
      "execution_count": 240,
      "outputs": []
    },
    {
      "cell_type": "code",
      "source": [
        "def quart(vals_orig):\n",
        "  vals = vals_orig.copy()\n",
        "  Q1 = vals.quantile(q=.25)\n",
        "  Q3 = vals.quantile(q=.75)\n",
        "  IQR = vals.apply(stats.iqr)\n",
        "\n",
        "  #only keep rows in dataframe that have values within 1.5\\IQR of Q1 and Q3\n",
        "\n",
        "  data_clean = vals[~((vals < (Q1-1.5*IQR)) | (vals > (Q3+1.5*IQR))).any(axis=1)]\n",
        "\n",
        "  return(data_clean)\n",
        "fdb = fdb.loc[:, 'Solubility':]\n",
        "#fdb = quart(fdb)\n",
        "Q1 = fdb.quantile(q=.25)\n",
        "Q3 = fdb.quantile(q=.75)\n",
        "IQR = fdb.apply(stats.iqr)\n",
        "\n",
        "#only keep rows in dataframe that have values within 1.5\\*IQR of Q1 and Q3\n",
        "data_clean = fdb[~((fdb < (Q1-1.5*IQR)) | (fdb > (Q3+1.5*IQR))).any(axis=1)]\n",
        "\n",
        "#find how many rows are left in the dataframe\n",
        "data_clean.shape\n",
        "data_clean.info()"
      ],
      "metadata": {
        "colab": {
          "base_uri": "https://localhost:8080/"
        },
        "id": "IW7RBnWPIswT",
        "outputId": "e2508e46-e261-43f6-ef0e-3cc5afa05d4f"
      },
      "execution_count": 241,
      "outputs": [
        {
          "output_type": "stream",
          "name": "stdout",
          "text": [
            "<class 'pandas.core.frame.DataFrame'>\n",
            "Int64Index: 9982 entries, 0 to 9981\n",
            "Data columns (total 10 columns):\n",
            " #   Column               Non-Null Count  Dtype  \n",
            "---  ------               --------------  -----  \n",
            " 0   Solubility           9897 non-null   float64\n",
            " 1   MolLogP              9924 non-null   float64\n",
            " 2   MolMR                9915 non-null   float64\n",
            " 3   HeavyAtomCount       9959 non-null   float64\n",
            " 4   NumRotatableBonds    9974 non-null   float64\n",
            " 5   NumValenceElectrons  9917 non-null   float64\n",
            " 6   NumAromaticRings     9936 non-null   float64\n",
            " 7   TPSA                 9939 non-null   float64\n",
            " 8   LabuteASA            9917 non-null   float64\n",
            " 9   BertzCT              9945 non-null   float64\n",
            "dtypes: float64(10)\n",
            "memory usage: 857.8 KB\n"
          ]
        }
      ]
    },
    {
      "cell_type": "code",
      "source": [
        "fdb = hampel(fdb)\n",
        "fdb.info()"
      ],
      "metadata": {
        "colab": {
          "base_uri": "https://localhost:8080/"
        },
        "id": "qh2V2mlKIYKp",
        "outputId": "eca57bd1-9e9a-435f-b200-fb6027b99151"
      },
      "execution_count": 242,
      "outputs": [
        {
          "output_type": "stream",
          "name": "stdout",
          "text": [
            "<class 'pandas.core.frame.DataFrame'>\n",
            "RangeIndex: 9982 entries, 0 to 9981\n",
            "Data columns (total 10 columns):\n",
            " #   Column               Non-Null Count  Dtype  \n",
            "---  ------               --------------  -----  \n",
            " 0   Solubility           9760 non-null   float64\n",
            " 1   MolLogP              9107 non-null   float64\n",
            " 2   MolMR                9287 non-null   float64\n",
            " 3   HeavyAtomCount       9280 non-null   float64\n",
            " 4   NumRotatableBonds    9205 non-null   float64\n",
            " 5   NumValenceElectrons  9232 non-null   float64\n",
            " 6   NumAromaticRings     9682 non-null   float64\n",
            " 7   TPSA                 9336 non-null   float64\n",
            " 8   LabuteASA            9228 non-null   float64\n",
            " 9   BertzCT              9339 non-null   float64\n",
            "dtypes: float64(10)\n",
            "memory usage: 780.0 KB\n"
          ]
        }
      ]
    }
  ]
}